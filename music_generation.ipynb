{
 "cells": [
  {
   "cell_type": "code",
   "execution_count": 1,
   "metadata": {},
   "outputs": [],
   "source": [
    "#library for understanding music\n",
    "from music21 import *"
   ]
  },
  {
   "cell_type": "code",
   "execution_count": 2,
   "metadata": {},
   "outputs": [],
   "source": [
    "#defining function to read MIDI files\n",
    "def read_midi(file):\n",
    "    \n",
    "    print(\"Loading Music File:\",file)\n",
    "    \n",
    "    notes=[]\n",
    "    notes_to_parse = None\n",
    "    \n",
    "    #parsing a midi file\n",
    "    midi = converter.parse(file)\n",
    "  \n",
    "    #grouping based on different instruments\n",
    "    s2 = instrument.partitionByInstrument(midi)\n",
    "\n",
    "    #Looping over all the instruments\n",
    "    for part in s2.parts:\n",
    "    \n",
    "        #select elements of only piano\n",
    "        if 'Piano' in str(part): \n",
    "        \n",
    "            notes_to_parse = part.recurse() \n",
    "      \n",
    "            #finding whether a particular element is note or a chord\n",
    "            for element in notes_to_parse:\n",
    "                \n",
    "                #note\n",
    "                if isinstance(element, note.Note):\n",
    "                    notes.append(str(element.pitch))\n",
    "                \n",
    "                #chord\n",
    "                elif isinstance(element, chord.Chord):\n",
    "                    notes.append('.'.join(str(n) for n in element.normalOrder))\n",
    "\n",
    "    return np.array(notes)"
   ]
  },
  {
   "cell_type": "code",
   "execution_count": 5,
   "metadata": {},
   "outputs": [
    {
     "name": "stdout",
     "output_type": "stream",
     "text": [
      "Loading Music File: haydn/haydn_33_1.mid\n",
      "Loading Music File: haydn/haydn_33_2.mid\n",
      "Loading Music File: haydn/haydn_33_3.mid\n",
      "Loading Music File: haydn/haydn_35_1.mid\n",
      "Loading Music File: haydn/haydn_35_2.mid\n",
      "Loading Music File: haydn/haydn_35_3.mid\n",
      "Loading Music File: haydn/haydn_43_1.mid\n",
      "Loading Music File: haydn/haydn_43_2.mid\n",
      "Loading Music File: haydn/haydn_43_3.mid\n",
      "Loading Music File: haydn/haydn_7_1.mid\n",
      "Loading Music File: haydn/haydn_7_2.mid\n",
      "Loading Music File: haydn/haydn_7_3.mid\n",
      "Loading Music File: haydn/haydn_8_1.mid\n",
      "Loading Music File: haydn/haydn_8_2.mid\n",
      "Loading Music File: haydn/haydn_8_3.mid\n",
      "Loading Music File: haydn/haydn_8_4.mid\n",
      "Loading Music File: haydn/haydn_9_1.mid\n",
      "Loading Music File: haydn/haydn_9_2.mid\n",
      "Loading Music File: haydn/haydn_9_3.mid\n",
      "Loading Music File: haydn/hay_40_1.mid\n",
      "Loading Music File: haydn/hay_40_2.mid\n"
     ]
    }
   ],
   "source": [
    "#for listing down the file names\n",
    "import os\n",
    "\n",
    "#Array Processing\n",
    "import numpy as np\n",
    "\n",
    "#specify the path\n",
    "path='haydn/'\n",
    "\n",
    "#read all the filenames\n",
    "files=[i for i in os.listdir(path) if i.endswith(\".mid\")]\n",
    "\n",
    "#reading each midi file\n",
    "notes_array = np.array([read_midi(path+i) for i in files])"
   ]
  },
  {
   "cell_type": "code",
   "execution_count": 6,
   "metadata": {},
   "outputs": [
    {
     "name": "stdout",
     "output_type": "stream",
     "text": [
      "179\n"
     ]
    }
   ],
   "source": [
    "#converting 2D array into 1D array\n",
    "notes_ = [element for note_ in notes_array for element in note_]\n",
    "\n",
    "#No. of unique notes\n",
    "unique_notes = list(set(notes_))\n",
    "print(len(unique_notes))"
   ]
  },
  {
   "cell_type": "code",
   "execution_count": 7,
   "metadata": {},
   "outputs": [
    {
     "data": {
      "text/plain": [
       "(array([134.,  14.,  12.,   5.,   6.,   2.,   0.,   3.,   2.,   1.]),\n",
       " array([1.0000e+00, 1.4580e+02, 2.9060e+02, 4.3540e+02, 5.8020e+02,\n",
       "        7.2500e+02, 8.6980e+02, 1.0146e+03, 1.1594e+03, 1.3042e+03,\n",
       "        1.4490e+03]),\n",
       " <BarContainer object of 10 artists>)"
      ]
     },
     "execution_count": 7,
     "metadata": {},
     "output_type": "execute_result"
    },
    {
     "data": {
      "image/png": "[encoded data removed]",
      "text/plain": [
       "<Figure size 360x360 with 1 Axes>"
      ]
     },
     "metadata": {
      "image/png": {
       "height": 305,
       "width": 319
      },
      "needs_background": "light"
     },
     "output_type": "display_data"
    }
   ],
   "source": [
    "#importing library\n",
    "from collections import Counter\n",
    "\n",
    "#computing frequency of each note\n",
    "freq = dict(Counter(notes_))\n",
    "\n",
    "#library for visualiation\n",
    "import matplotlib.pyplot as plt\n",
    "\n",
    "#consider only the frequencies\n",
    "no=[count for _,count in freq.items()]\n",
    "\n",
    "#set the figure size\n",
    "plt.figure(figsize=(5,5))\n",
    "\n",
    "#plot\n",
    "plt.hist(no)"
   ]
  },
  {
   "cell_type": "code",
   "execution_count": 8,
   "metadata": {},
   "outputs": [
    {
     "name": "stdout",
     "output_type": "stream",
     "text": [
      "75\n"
     ]
    }
   ],
   "source": [
    "frequent_notes = [note_ for note_, count in freq.items() if count>=50]\n",
    "print(len(frequent_notes))"
   ]
  },
  {
   "cell_type": "code",
   "execution_count": 9,
   "metadata": {},
   "outputs": [],
   "source": [
    "\n",
    "new_music=[]\n",
    "\n",
    "for notes in notes_array:\n",
    "    temp=[]\n",
    "    for note_ in notes:\n",
    "        if note_ in frequent_notes:\n",
    "            temp.append(note_)            \n",
    "    new_music.append(temp)\n",
    "    \n",
    "new_music = np.array(new_music)"
   ]
  },
  {
   "cell_type": "code",
   "execution_count": 10,
   "metadata": {},
   "outputs": [],
   "source": [
    "no_of_timesteps = 32\n",
    "x = []\n",
    "y = []\n",
    "\n",
    "for note_ in new_music:\n",
    "    for i in range(0, len(note_) - no_of_timesteps, 1):\n",
    "        \n",
    "        #preparing input and output sequences\n",
    "        input_ = note_[i:i + no_of_timesteps]\n",
    "        output = note_[i + no_of_timesteps]\n",
    "        \n",
    "        x.append(input_)\n",
    "        y.append(output)\n",
    "        \n",
    "x=np.array(x)\n",
    "y=np.array(y)"
   ]
  },
  {
   "cell_type": "code",
   "execution_count": 11,
   "metadata": {},
   "outputs": [],
   "source": [
    "unique_x = list(set(x.ravel()))\n",
    "x_note_to_int = dict((note_, number) for number, note_ in enumerate(unique_x))"
   ]
  },
  {
   "cell_type": "code",
   "execution_count": 12,
   "metadata": {},
   "outputs": [],
   "source": [
    "#preparing input sequences\n",
    "x_seq=[]\n",
    "for i in x:\n",
    "    temp=[]\n",
    "    for j in i:\n",
    "        #assigning unique integer to every note\n",
    "        temp.append(x_note_to_int[j])\n",
    "    x_seq.append(temp)\n",
    "    \n",
    "x_seq = np.array(x_seq)"
   ]
  },
  {
   "cell_type": "code",
   "execution_count": 13,
   "metadata": {},
   "outputs": [],
   "source": [
    "unique_y = list(set(y))\n",
    "y_note_to_int = dict((note_, number) for number, note_ in enumerate(unique_y)) \n",
    "y_seq=np.array([y_note_to_int[i] for i in y])"
   ]
  },
  {
   "cell_type": "code",
   "execution_count": 14,
   "metadata": {},
   "outputs": [],
   "source": [
    "from sklearn.model_selection import train_test_split\n",
    "x_tr, x_val, y_tr, y_val = train_test_split(x_seq,y_seq,test_size=0.2,random_state=0)"
   ]
  },
  {
   "cell_type": "code",
   "execution_count": 15,
   "metadata": {},
   "outputs": [],
   "source": [
    "def lstm():\n",
    "  model = Sequential()\n",
    "  model.add(LSTM(128,return_sequences=True))\n",
    "  model.add(LSTM(128))\n",
    "  model.add(Dense(256))\n",
    "  model.add(Activation('relu'))\n",
    "  model.add(Dense(n_vocab))\n",
    "  model.add(Activation('softmax'))\n",
    "  model.compile(loss='sparse_categorical_crossentropy', optimizer='adam')\n",
    "  return model"
   ]
  },
  {
   "cell_type": "code",
   "execution_count": 17,
   "metadata": {},
   "outputs": [
    {
     "name": "stdout",
     "output_type": "stream",
     "text": [
      "Model: \"sequential\"\n",
      "_________________________________________________________________\n",
      "Layer (type)                 Output Shape              Param #   \n",
      "=================================================================\n",
      "embedding (Embedding)        (None, 32, 100)           7500      \n",
      "_________________________________________________________________\n",
      "conv1d (Conv1D)              (None, 32, 64)            19264     \n",
      "_________________________________________________________________\n",
      "dropout (Dropout)            (None, 32, 64)            0         \n",
      "_________________________________________________________________\n",
      "max_pooling1d (MaxPooling1D) (None, 16, 64)            0         \n",
      "_________________________________________________________________\n",
      "conv1d_1 (Conv1D)            (None, 16, 128)           24704     \n",
      "_________________________________________________________________\n",
      "dropout_1 (Dropout)          (None, 16, 128)           0         \n",
      "_________________________________________________________________\n",
      "max_pooling1d_1 (MaxPooling1 (None, 8, 128)            0         \n",
      "_________________________________________________________________\n",
      "conv1d_2 (Conv1D)            (None, 8, 256)            98560     \n",
      "_________________________________________________________________\n",
      "dropout_2 (Dropout)          (None, 8, 256)            0         \n",
      "_________________________________________________________________\n",
      "max_pooling1d_2 (MaxPooling1 (None, 4, 256)            0         \n",
      "_________________________________________________________________\n",
      "global_max_pooling1d (Global (None, 256)               0         \n",
      "_________________________________________________________________\n",
      "dense (Dense)                (None, 256)               65792     \n",
      "_________________________________________________________________\n",
      "dense_1 (Dense)              (None, 75)                19275     \n",
      "=================================================================\n",
      "Total params: 235,095\n",
      "Trainable params: 235,095\n",
      "Non-trainable params: 0\n",
      "_________________________________________________________________\n"
     ]
    }
   ],
   "source": [
    "from tensorflow.keras.layers import *\n",
    "from tensorflow.keras.models import *\n",
    "from tensorflow.keras.callbacks import *\n",
    "import tensorflow.keras.backend as K\n",
    "\n",
    "K.clear_session()\n",
    "model = Sequential()\n",
    "    \n",
    "#embedding layer\n",
    "model.add(Embedding(len(unique_x), 100, input_length=32,trainable=True)) \n",
    "\n",
    "model.add(Conv1D(64,3, padding='causal',activation='relu'))\n",
    "model.add(Dropout(0.2))\n",
    "model.add(MaxPool1D(2))\n",
    "    \n",
    "model.add(Conv1D(128,3,activation='relu',dilation_rate=2,padding='causal'))\n",
    "model.add(Dropout(0.2))\n",
    "model.add(MaxPool1D(2))\n",
    "\n",
    "model.add(Conv1D(256,3,activation='relu',dilation_rate=4,padding='causal'))\n",
    "model.add(Dropout(0.2))\n",
    "model.add(MaxPool1D(2))\n",
    "          \n",
    "#model.add(Conv1D(256,5,activation='relu'))    \n",
    "model.add(GlobalMaxPool1D())\n",
    "    \n",
    "model.add(Dense(256, activation='relu'))\n",
    "model.add(Dense(len(unique_y), activation='softmax'))\n",
    "    \n",
    "model.compile(loss='sparse_categorical_crossentropy', optimizer='adam')\n",
    "\n",
    "model.summary()"
   ]
  },
  {
   "cell_type": "code",
   "execution_count": 18,
   "metadata": {},
   "outputs": [],
   "source": [
    "mc=ModelCheckpoint('best_model.h5', monitor='val_loss', mode='min', save_best_only=True,verbose=1)"
   ]
  },
  {
   "cell_type": "code",
   "execution_count": 19,
   "metadata": {},
   "outputs": [
    {
     "name": "stdout",
     "output_type": "stream",
     "text": [
      "Epoch 1/50\n",
      "148/149 [============================>.] - ETA: 0s - loss: 3.8223\n",
      "Epoch 00001: val_loss improved from inf to 3.67335, saving model to best_model.h5\n",
      "149/149 [==============================] - 14s 92ms/step - loss: 3.8210 - val_loss: 3.6734\n",
      "Epoch 2/50\n",
      "149/149 [==============================] - ETA: 0s - loss: 3.5037\n",
      "Epoch 00002: val_loss improved from 3.67335 to 3.50679, saving model to best_model.h5\n",
      "149/149 [==============================] - 12s 83ms/step - loss: 3.5037 - val_loss: 3.5068\n",
      "Epoch 3/50\n",
      "149/149 [==============================] - ETA: 0s - loss: 3.3507\n",
      "Epoch 00003: val_loss improved from 3.50679 to 3.38669, saving model to best_model.h5\n",
      "149/149 [==============================] - 13s 85ms/step - loss: 3.3507 - val_loss: 3.3867\n",
      "Epoch 4/50\n",
      "149/149 [==============================] - ETA: 0s - loss: 3.2467\n",
      "Epoch 00004: val_loss improved from 3.38669 to 3.29945, saving model to best_model.h5\n",
      "149/149 [==============================] - 13s 84ms/step - loss: 3.2467 - val_loss: 3.2994\n",
      "Epoch 5/50\n",
      "149/149 [==============================] - ETA: 0s - loss: 3.1562\n",
      "Epoch 00005: val_loss improved from 3.29945 to 3.22148, saving model to best_model.h5\n",
      "149/149 [==============================] - 12s 82ms/step - loss: 3.1562 - val_loss: 3.2215\n",
      "Epoch 6/50\n",
      "149/149 [==============================] - ETA: 0s - loss: 3.0836\n",
      "Epoch 00006: val_loss improved from 3.22148 to 3.20022, saving model to best_model.h5\n",
      "149/149 [==============================] - 12s 79ms/step - loss: 3.0836 - val_loss: 3.2002\n",
      "Epoch 7/50\n",
      "149/149 [==============================] - ETA: 0s - loss: 3.0170\n",
      "Epoch 00007: val_loss improved from 3.20022 to 3.08162, saving model to best_model.h5\n",
      "149/149 [==============================] - 11s 77ms/step - loss: 3.0170 - val_loss: 3.0816\n",
      "Epoch 8/50\n",
      "149/149 [==============================] - ETA: 0s - loss: 2.9548\n",
      "Epoch 00008: val_loss improved from 3.08162 to 3.07483, saving model to best_model.h5\n",
      "149/149 [==============================] - 11s 77ms/step - loss: 2.9548 - val_loss: 3.0748\n",
      "Epoch 9/50\n",
      "149/149 [==============================] - ETA: 0s - loss: 2.8923\n",
      "Epoch 00009: val_loss improved from 3.07483 to 3.03978, saving model to best_model.h5\n",
      "149/149 [==============================] - 14s 95ms/step - loss: 2.8923 - val_loss: 3.0398\n",
      "Epoch 10/50\n",
      "148/149 [============================>.] - ETA: 0s - loss: 2.8365\n",
      "Epoch 00010: val_loss improved from 3.03978 to 2.99067, saving model to best_model.h5\n",
      "149/149 [==============================] - 12s 82ms/step - loss: 2.8362 - val_loss: 2.9907\n",
      "Epoch 11/50\n",
      "149/149 [==============================] - ETA: 0s - loss: 2.7908\n",
      "Epoch 00011: val_loss improved from 2.99067 to 2.95334, saving model to best_model.h5\n",
      "149/149 [==============================] - 12s 82ms/step - loss: 2.7908 - val_loss: 2.9533\n",
      "Epoch 12/50\n",
      "149/149 [==============================] - ETA: 0s - loss: 2.7437\n",
      "Epoch 00012: val_loss improved from 2.95334 to 2.90255, saving model to best_model.h5\n",
      "149/149 [==============================] - 12s 81ms/step - loss: 2.7437 - val_loss: 2.9025\n",
      "Epoch 13/50\n",
      "149/149 [==============================] - ETA: 0s - loss: 2.6989\n",
      "Epoch 00013: val_loss improved from 2.90255 to 2.88163, saving model to best_model.h5\n",
      "149/149 [==============================] - 12s 82ms/step - loss: 2.6989 - val_loss: 2.8816\n",
      "Epoch 14/50\n",
      "149/149 [==============================] - ETA: 0s - loss: 2.6411\n",
      "Epoch 00014: val_loss improved from 2.88163 to 2.85433, saving model to best_model.h5\n",
      "149/149 [==============================] - 12s 80ms/step - loss: 2.6411 - val_loss: 2.8543\n",
      "Epoch 15/50\n",
      "149/149 [==============================] - ETA: 0s - loss: 2.6034\n",
      "Epoch 00015: val_loss improved from 2.85433 to 2.81752, saving model to best_model.h5\n",
      "149/149 [==============================] - 12s 80ms/step - loss: 2.6034 - val_loss: 2.8175\n",
      "Epoch 16/50\n",
      "148/149 [============================>.] - ETA: 0s - loss: 2.5553\n",
      "Epoch 00016: val_loss improved from 2.81752 to 2.80566, saving model to best_model.h5\n",
      "149/149 [==============================] - 11s 77ms/step - loss: 2.5549 - val_loss: 2.8057\n",
      "Epoch 17/50\n",
      "148/149 [============================>.] - ETA: 0s - loss: 2.5134\n",
      "Epoch 00017: val_loss improved from 2.80566 to 2.76383, saving model to best_model.h5\n",
      "149/149 [==============================] - 10s 68ms/step - loss: 2.5131 - val_loss: 2.7638\n",
      "Epoch 18/50\n",
      "149/149 [==============================] - ETA: 0s - loss: 2.4766\n",
      "Epoch 00018: val_loss improved from 2.76383 to 2.74428, saving model to best_model.h5\n",
      "149/149 [==============================] - 10s 65ms/step - loss: 2.4766 - val_loss: 2.7443\n",
      "Epoch 19/50\n",
      "148/149 [============================>.] - ETA: 0s - loss: 2.4367\n",
      "Epoch 00019: val_loss improved from 2.74428 to 2.68963, saving model to best_model.h5\n",
      "149/149 [==============================] - 10s 66ms/step - loss: 2.4361 - val_loss: 2.6896\n",
      "Epoch 20/50\n",
      "149/149 [==============================] - ETA: 0s - loss: 2.4146\n",
      "Epoch 00020: val_loss improved from 2.68963 to 2.67870, saving model to best_model.h5\n",
      "149/149 [==============================] - 11s 76ms/step - loss: 2.4146 - val_loss: 2.6787\n",
      "Epoch 21/50\n",
      "149/149 [==============================] - ETA: 0s - loss: 2.3691\n",
      "Epoch 00021: val_loss did not improve from 2.67870\n",
      "149/149 [==============================] - 12s 82ms/step - loss: 2.3691 - val_loss: 2.6795\n",
      "Epoch 22/50\n",
      "149/149 [==============================] - ETA: 0s - loss: 2.3287\n",
      "Epoch 00022: val_loss improved from 2.67870 to 2.65222, saving model to best_model.h5\n",
      "149/149 [==============================] - 12s 79ms/step - loss: 2.3287 - val_loss: 2.6522\n",
      "Epoch 23/50\n",
      "149/149 [==============================] - ETA: 0s - loss: 2.2965\n",
      "Epoch 00023: val_loss improved from 2.65222 to 2.62264, saving model to best_model.h5\n",
      "149/149 [==============================] - 13s 85ms/step - loss: 2.2965 - val_loss: 2.6226\n",
      "Epoch 24/50\n",
      "148/149 [============================>.] - ETA: 0s - loss: 2.2825\n",
      "Epoch 00024: val_loss improved from 2.62264 to 2.59301, saving model to best_model.h5\n",
      "149/149 [==============================] - 11s 77ms/step - loss: 2.2825 - val_loss: 2.5930\n",
      "Epoch 25/50\n",
      "149/149 [==============================] - ETA: 0s - loss: 2.2470\n",
      "Epoch 00025: val_loss did not improve from 2.59301\n",
      "149/149 [==============================] - 12s 79ms/step - loss: 2.2470 - val_loss: 2.6165\n",
      "Epoch 26/50\n",
      "149/149 [==============================] - ETA: 0s - loss: 2.2063\n",
      "Epoch 00026: val_loss did not improve from 2.59301\n",
      "149/149 [==============================] - 11s 76ms/step - loss: 2.2063 - val_loss: 2.5983\n",
      "Epoch 27/50\n",
      "149/149 [==============================] - ETA: 0s - loss: 2.1801\n",
      "Epoch 00027: val_loss improved from 2.59301 to 2.53965, saving model to best_model.h5\n",
      "149/149 [==============================] - 13s 85ms/step - loss: 2.1801 - val_loss: 2.5396\n",
      "Epoch 28/50\n",
      "149/149 [==============================] - ETA: 0s - loss: 2.1635\n",
      "Epoch 00028: val_loss improved from 2.53965 to 2.51465, saving model to best_model.h5\n",
      "149/149 [==============================] - 13s 85ms/step - loss: 2.1635 - val_loss: 2.5147\n",
      "Epoch 29/50\n",
      "149/149 [==============================] - ETA: 0s - loss: 2.1323\n",
      "Epoch 00029: val_loss improved from 2.51465 to 2.50354, saving model to best_model.h5\n",
      "149/149 [==============================] - 13s 88ms/step - loss: 2.1323 - val_loss: 2.5035\n",
      "Epoch 30/50\n",
      "149/149 [==============================] - ETA: 0s - loss: 2.1056\n",
      "Epoch 00030: val_loss improved from 2.50354 to 2.49420, saving model to best_model.h5\n",
      "149/149 [==============================] - 12s 83ms/step - loss: 2.1056 - val_loss: 2.4942\n",
      "Epoch 31/50\n",
      "149/149 [==============================] - ETA: 0s - loss: 2.0908\n",
      "Epoch 00031: val_loss improved from 2.49420 to 2.47391, saving model to best_model.h5\n",
      "149/149 [==============================] - 13s 86ms/step - loss: 2.0908 - val_loss: 2.4739\n",
      "Epoch 32/50\n",
      "149/149 [==============================] - ETA: 0s - loss: 2.0574\n",
      "Epoch 00032: val_loss improved from 2.47391 to 2.45403, saving model to best_model.h5\n",
      "149/149 [==============================] - 12s 81ms/step - loss: 2.0574 - val_loss: 2.4540\n",
      "Epoch 33/50\n",
      "149/149 [==============================] - ETA: 0s - loss: 2.0336\n",
      "Epoch 00033: val_loss improved from 2.45403 to 2.44919, saving model to best_model.h5\n",
      "149/149 [==============================] - 11s 77ms/step - loss: 2.0336 - val_loss: 2.4492\n"
     ]
    },
    {
     "name": "stdout",
     "output_type": "stream",
     "text": [
      "Epoch 34/50\n",
      "149/149 [==============================] - ETA: 0s - loss: 2.0027\n",
      "Epoch 00034: val_loss improved from 2.44919 to 2.41507, saving model to best_model.h5\n",
      "149/149 [==============================] - 11s 77ms/step - loss: 2.0027 - val_loss: 2.4151\n",
      "Epoch 35/50\n",
      "149/149 [==============================] - ETA: 0s - loss: 1.9869\n",
      "Epoch 00035: val_loss did not improve from 2.41507\n",
      "149/149 [==============================] - 12s 78ms/step - loss: 1.9869 - val_loss: 2.4169\n",
      "Epoch 36/50\n",
      "149/149 [==============================] - ETA: 0s - loss: 1.9642\n",
      "Epoch 00036: val_loss improved from 2.41507 to 2.39294, saving model to best_model.h5\n",
      "149/149 [==============================] - 13s 84ms/step - loss: 1.9642 - val_loss: 2.3929\n",
      "Epoch 37/50\n",
      "149/149 [==============================] - ETA: 0s - loss: 1.9673\n",
      "Epoch 00037: val_loss improved from 2.39294 to 2.37471, saving model to best_model.h5\n",
      "149/149 [==============================] - 12s 79ms/step - loss: 1.9673 - val_loss: 2.3747\n",
      "Epoch 38/50\n",
      "149/149 [==============================] - ETA: 0s - loss: 1.9347\n",
      "Epoch 00038: val_loss improved from 2.37471 to 2.35925, saving model to best_model.h5\n",
      "149/149 [==============================] - 12s 83ms/step - loss: 1.9347 - val_loss: 2.3593\n",
      "Epoch 39/50\n",
      "149/149 [==============================] - ETA: 0s - loss: 1.9303\n",
      "Epoch 00039: val_loss did not improve from 2.35925\n",
      "149/149 [==============================] - 12s 80ms/step - loss: 1.9303 - val_loss: 2.3674\n",
      "Epoch 40/50\n",
      "149/149 [==============================] - ETA: 0s - loss: 1.8941\n",
      "Epoch 00040: val_loss improved from 2.35925 to 2.33139, saving model to best_model.h5\n",
      "149/149 [==============================] - 11s 76ms/step - loss: 1.8941 - val_loss: 2.3314\n",
      "Epoch 41/50\n",
      "149/149 [==============================] - ETA: 0s - loss: 1.8947\n",
      "Epoch 00041: val_loss improved from 2.33139 to 2.32943, saving model to best_model.h5\n",
      "149/149 [==============================] - 12s 82ms/step - loss: 1.8947 - val_loss: 2.3294\n",
      "Epoch 42/50\n",
      "149/149 [==============================] - ETA: 0s - loss: 1.8738\n",
      "Epoch 00042: val_loss improved from 2.32943 to 2.32087, saving model to best_model.h5\n",
      "149/149 [==============================] - 12s 79ms/step - loss: 1.8738 - val_loss: 2.3209\n",
      "Epoch 43/50\n",
      "149/149 [==============================] - ETA: 0s - loss: 1.8438\n",
      "Epoch 00043: val_loss improved from 2.32087 to 2.29142, saving model to best_model.h5\n",
      "149/149 [==============================] - 12s 78ms/step - loss: 1.8438 - val_loss: 2.2914\n",
      "Epoch 44/50\n",
      "149/149 [==============================] - ETA: 0s - loss: 1.8262\n",
      "Epoch 00044: val_loss did not improve from 2.29142\n",
      "149/149 [==============================] - 12s 80ms/step - loss: 1.8262 - val_loss: 2.3008\n",
      "Epoch 45/50\n",
      "149/149 [==============================] - ETA: 0s - loss: 1.8294\n",
      "Epoch 00045: val_loss improved from 2.29142 to 2.28317, saving model to best_model.h5\n",
      "149/149 [==============================] - 12s 80ms/step - loss: 1.8294 - val_loss: 2.2832\n",
      "Epoch 46/50\n",
      "149/149 [==============================] - ETA: 0s - loss: 1.8056\n",
      "Epoch 00046: val_loss improved from 2.28317 to 2.26918, saving model to best_model.h5\n",
      "149/149 [==============================] - 12s 79ms/step - loss: 1.8056 - val_loss: 2.2692\n",
      "Epoch 47/50\n",
      "149/149 [==============================] - ETA: 0s - loss: 1.793 - ETA: 0s - loss: 1.7937\n",
      "Epoch 00047: val_loss improved from 2.26918 to 2.25155, saving model to best_model.h5\n",
      "149/149 [==============================] - 12s 83ms/step - loss: 1.7937 - val_loss: 2.2516\n",
      "Epoch 48/50\n",
      "149/149 [==============================] - ETA: 0s - loss: 1.7793\n",
      "Epoch 00048: val_loss improved from 2.25155 to 2.25129, saving model to best_model.h5\n",
      "149/149 [==============================] - 12s 79ms/step - loss: 1.7793 - val_loss: 2.2513\n",
      "Epoch 49/50\n",
      "149/149 [==============================] - ETA: 0s - loss: 1.7765\n",
      "Epoch 00049: val_loss did not improve from 2.25129\n",
      "149/149 [==============================] - 11s 77ms/step - loss: 1.7765 - val_loss: 2.2588\n",
      "Epoch 50/50\n",
      "148/149 [============================>.] - ETA: 0s - loss: 1.7556\n",
      "Epoch 00050: val_loss improved from 2.25129 to 2.21536, saving model to best_model.h5\n",
      "149/149 [==============================] - 10s 69ms/step - loss: 1.7567 - val_loss: 2.2154\n"
     ]
    }
   ],
   "source": [
    "history = model.fit(np.array(x_tr),np.array(y_tr),batch_size=128,epochs=50, validation_data=(np.array(x_val),np.array(y_val)),verbose=1, callbacks=[mc])"
   ]
  },
  {
   "cell_type": "code",
   "execution_count": 20,
   "metadata": {},
   "outputs": [],
   "source": [
    "#loading best model\n",
    "from tensorflow.keras.models import load_model\n",
    "model = load_model('best_model.h5')"
   ]
  },
  {
   "cell_type": "code",
   "execution_count": 21,
   "metadata": {},
   "outputs": [
    {
     "name": "stdout",
     "output_type": "stream",
     "text": [
      "[21, 74, 74, 74, 40, 21, 74, 25, 46, 63]\n"
     ]
    }
   ],
   "source": [
    "import random\n",
    "ind = np.random.randint(0,len(x_val)-1)\n",
    "\n",
    "random_music = x_val[ind]\n",
    "\n",
    "predictions=[]\n",
    "for i in range(10):\n",
    "\n",
    "    random_music = random_music.reshape(1,no_of_timesteps)\n",
    "\n",
    "    prob  = model.predict(random_music)[0]\n",
    "    y_pred= np.argmax(prob,axis=0)\n",
    "    predictions.append(y_pred)\n",
    "\n",
    "    random_music = np.insert(random_music[0],len(random_music[0]),y_pred)\n",
    "    random_music = random_music[1:]\n",
    "    \n",
    "print(predictions)"
   ]
  },
  {
   "cell_type": "code",
   "execution_count": 22,
   "metadata": {},
   "outputs": [],
   "source": [
    "x_int_to_note = dict((number, note_) for number, note_ in enumerate(unique_x)) \n",
    "predicted_notes = [x_int_to_note[i] for i in predictions]"
   ]
  },
  {
   "cell_type": "code",
   "execution_count": 23,
   "metadata": {},
   "outputs": [],
   "source": [
    "def convert_to_midi(prediction_output):\n",
    "   \n",
    "    offset = 0\n",
    "    output_notes = []\n",
    "\n",
    "    # create note and chord objects based on the values generated by the model\n",
    "    for pattern in prediction_output:\n",
    "        \n",
    "        # pattern is a chord\n",
    "        if ('.' in pattern) or pattern.isdigit():\n",
    "            notes_in_chord = pattern.split('.')\n",
    "            notes = []\n",
    "            for current_note in notes_in_chord:\n",
    "                \n",
    "                cn=int(current_note)\n",
    "                new_note = note.Note(cn)\n",
    "                new_note.storedInstrument = instrument.Piano()\n",
    "                notes.append(new_note)\n",
    "                \n",
    "            new_chord = chord.Chord(notes)\n",
    "            new_chord.offset = offset\n",
    "            output_notes.append(new_chord)\n",
    "            \n",
    "        # pattern is a note\n",
    "        else:\n",
    "            \n",
    "            new_note = note.Note(pattern)\n",
    "            new_note.offset = offset\n",
    "            new_note.storedInstrument = instrument.Piano()\n",
    "            output_notes.append(new_note)\n",
    "\n",
    "        # increase offset each iteration so that notes do not stack\n",
    "        offset += 1\n",
    "    midi_stream = stream.Stream(output_notes)\n",
    "    midi_stream.write('midi', fp='music.mid')"
   ]
  },
  {
   "cell_type": "code",
   "execution_count": 24,
   "metadata": {},
   "outputs": [],
   "source": [
    "convert_to_midi(predicted_notes)"
   ]
  },
  {
   "cell_type": "code",
   "execution_count": null,
   "metadata": {},
   "outputs": [],
   "source": []
  }
 ],
 "metadata": {
  "kernelspec": {
   "display_name": "Python 3",
   "language": "python",
   "name": "python3"
  },
  "language_info": {
   "codemirror_mode": {
    "name": "ipython",
    "version": 3
   },
   "file_extension": ".py",
   "mimetype": "text/x-python",
   "name": "python",
   "nbconvert_exporter": "python",
   "pygments_lexer": "ipython3",
   "version": "3.8.8"
  }
 },
 "nbformat": 4,
 "nbformat_minor": 4
}
